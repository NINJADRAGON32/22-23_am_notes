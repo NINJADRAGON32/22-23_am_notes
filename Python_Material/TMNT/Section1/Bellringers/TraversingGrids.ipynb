{
 "cells": [
  {
   "cell_type": "code",
   "execution_count": 3,
   "metadata": {},
   "outputs": [
    {
     "name": "stdout",
     "output_type": "stream",
     "text": [
      "00 01 02 03 04 05 06 07 08 09 \n",
      "10 11 12 13 14 15 16 17 18 19 \n",
      "20 21 22 23 24 25 26 27 28 29 \n",
      "30 31 32 33 34 35 36 37 38 39 \n",
      "40 41 42 43 44 45 46 47 48 49 \n",
      "50 51 52 53 54 55 56 57 58 59 \n",
      "60 61 62 63 64 65 66 67 68 69 \n",
      "70 71 72 73 74 75 76 77 78 79 \n",
      "80 81 82 83 84 85 86 87 88 89 \n",
      "90 91 92 93 94 95 96 97 98 99 \n"
     ]
    }
   ],
   "source": [
    "#grabbing the indexi horizontally\n",
    "for i in range(10):\n",
    "    for j in range(10):\n",
    "        print(f\"{i}{j}\",end=\" \")\n",
    "    print()"
   ]
  },
  {
   "cell_type": "code",
   "execution_count": 4,
   "metadata": {},
   "outputs": [
    {
     "name": "stdout",
     "output_type": "stream",
     "text": [
      "00 10 20 30 40 50 60 70 80 90 \n",
      "01 11 21 31 41 51 61 71 81 91 \n",
      "02 12 22 32 42 52 62 72 82 92 \n",
      "03 13 23 33 43 53 63 73 83 93 \n",
      "04 14 24 34 44 54 64 74 84 94 \n",
      "05 15 25 35 45 55 65 75 85 95 \n",
      "06 16 26 36 46 56 66 76 86 96 \n",
      "07 17 27 37 47 57 67 77 87 97 \n",
      "08 18 28 38 48 58 68 78 88 98 \n",
      "09 19 29 39 49 59 69 79 89 99 \n"
     ]
    }
   ],
   "source": [
    "for i in range(10):\n",
    "    for j in range(10):\n",
    "        print(f\"{j}{i}\",end=\" \")\n",
    "    print()"
   ]
  }
 ],
 "metadata": {
  "kernelspec": {
   "display_name": "Python 3",
   "language": "python",
   "name": "python3"
  },
  "language_info": {
   "codemirror_mode": {
    "name": "ipython",
    "version": 3
   },
   "file_extension": ".py",
   "mimetype": "text/x-python",
   "name": "python",
   "nbconvert_exporter": "python",
   "pygments_lexer": "ipython3",
   "version": "3.10.7"
  },
  "orig_nbformat": 4,
  "vscode": {
   "interpreter": {
    "hash": "991b96fc4ce598f47002f2240ede88b1c9bde513ce3392ecdea862ffefb71f8d"
   }
  }
 },
 "nbformat": 4,
 "nbformat_minor": 2
}
